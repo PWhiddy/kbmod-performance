{
 "cells": [
  {
   "cell_type": "code",
   "execution_count": 31,
   "metadata": {},
   "outputs": [],
   "source": [
    "import numpy as np\n",
    "import math\n",
    "from matplotlib import pyplot as plt\n",
    "from mpl_toolkits.axes_grid1 import ImageGrid"
   ]
  },
  {
   "cell_type": "code",
   "execution_count": null,
   "metadata": {},
   "outputs": [],
   "source": []
  },
  {
   "cell_type": "code",
   "execution_count": 3,
   "metadata": {},
   "outputs": [],
   "source": [
    "def factorial(n):\n",
    "    r = 1\n",
    "    for i in range(1,n+1):\n",
    "        r *= i\n",
    "    return r"
   ]
  },
  {
   "cell_type": "code",
   "execution_count": 4,
   "metadata": {},
   "outputs": [
    {
     "data": {
      "text/plain": [
       "120"
      ]
     },
     "execution_count": 4,
     "metadata": {},
     "output_type": "execute_result"
    }
   ],
   "source": [
    "factorial(5)"
   ]
  },
  {
   "cell_type": "code",
   "execution_count": 5,
   "metadata": {},
   "outputs": [],
   "source": [
    "def fact(n):\n",
    "    if (n==1):\n",
    "        return 1\n",
    "    else:\n",
    "        return n*fact(n-1)"
   ]
  },
  {
   "cell_type": "code",
   "execution_count": 6,
   "metadata": {},
   "outputs": [
    {
     "data": {
      "text/plain": [
       "(1.2099999087729054+0.00066036016051802024j)"
      ]
     },
     "execution_count": 6,
     "metadata": {},
     "output_type": "execute_result"
    }
   ],
   "source": [
    "np.power(0.0003j+1.1,2+0.000003123j)"
   ]
  },
  {
   "cell_type": "code",
   "execution_count": 7,
   "metadata": {},
   "outputs": [
    {
     "data": {
      "text/plain": [
       "array([   2.        ,    6.72717132,   22.627417  ,   76.10925536,  256.        ])"
      ]
     },
     "execution_count": 7,
     "metadata": {},
     "output_type": "execute_result"
    }
   ],
   "source": [
    "np.logspace(1,8,num=5,base=2)"
   ]
  },
  {
   "cell_type": "code",
   "execution_count": 9,
   "metadata": {},
   "outputs": [],
   "source": [
    "def get_runtime(visits, sky_area, distance, baseline):\n",
    "    # visits - number of images, sky_area - 1 for now, distance - AU, baseline - hours\n",
    "    # A. if object even moves far enough for shifting to be required\n",
    "    # B. object moves enough that trajectory becomes significantly non-linear\n",
    "    # C. If GPU is using maximum memory\n",
    "    #earth_vel = 0.00074 # AU/h\n",
    "    hours_per_year = 8760\n",
    "    circ = 2*math.pi*distance # circumference\n",
    "    period = distance**1.5\n",
    "    object_moved = (baseline/hours_per_year)*(circ/period)\n",
    "    ang_moved = math.atan(object_moved/distance)\n",
    "    sq_arc_per_sq_deg = 3600*3600\n",
    "    pixel_width = 0.25 # decam pixel size of 0.25 arcsecond\n",
    "    pixels_in_area = sky_area*(sq_arc_per_sq_deg)*((1/0.25)**2)\n",
    "    pixels_per_radian = 206265/pixel_width\n",
    "    pixels_moved = pixels_per_radian*ang_moved\n",
    "    trajectories_per_second = 1400000000/(visits/30) # this number is based on benchmarks\n",
    "    total_pixel_coverage = (pixels_moved)**2 # number of trajectories to search\n",
    "    total_trajectories = total_pixel_coverage*pixels_in_area\n",
    "    \n",
    "    return total_trajectories/trajectories_per_second#(img_count*sky_area*(baseline**2))/distance"
   ]
  },
  {
   "cell_type": "code",
   "execution_count": 11,
   "metadata": {},
   "outputs": [
    {
     "data": {
      "text/plain": [
       "203.29846982900094"
      ]
     },
     "execution_count": 11,
     "metadata": {},
     "output_type": "execute_result"
    }
   ],
   "source": [
    "# Decam field is 3 square degrees, split up into 62 ccds\n",
    "sky_a = 3/62\n",
    "get_runtime(30, sky_a, 40, 24*3)"
   ]
  },
  {
   "cell_type": "code",
   "execution_count": 12,
   "metadata": {},
   "outputs": [],
   "source": [
    "def plot_compute_time(visits, sky_area, resolution):\n",
    "    img = np.zeros([resolution,resolution])\n",
    "    x_i = 0\n",
    "    y_i = 0\n",
    "    for y in np.logspace(1,12,num=resolution,base=2):\n",
    "        for x in np.logspace(1,12,num=resolution,base=2):\n",
    "            bl = x\n",
    "            ds = y\n",
    "            img[x_i][y_i] = get_runtime(visits, sky_area, ds, bl)\n",
    "            x_i += 1\n",
    "        y_i += 1\n",
    "        x_i = 0\n",
    "    return img"
   ]
  },
  {
   "cell_type": "code",
   "execution_count": 28,
   "metadata": {},
   "outputs": [],
   "source": [
    "k = []\n",
    "grid_size = 6\n",
    "resolution = 10\n",
    "x_t = 0\n",
    "y_t = 0\n",
    "for visits in np.logspace(3,8,num=grid_size,base=2):\n",
    "    k.append([])\n",
    "    for area in np.logspace(1,6,num=grid_size,base=2):\n",
    "        k[y_t].append(plot_compute_time(visits,area,resolution))\n",
    "        x_t += 1\n",
    "    y_t += 1\n",
    "    x_t = 0\n",
    "#k = plot_compute_time(15,3/62,10)"
   ]
  },
  {
   "cell_type": "code",
   "execution_count": 29,
   "metadata": {},
   "outputs": [
    {
     "data": {
      "text/plain": [
       "2016.9439874530353"
      ]
     },
     "execution_count": 29,
     "metadata": {},
     "output_type": "execute_result"
    }
   ],
   "source": [
    "k[3][4][5][6]"
   ]
  },
  {
   "cell_type": "code",
   "execution_count": 15,
   "metadata": {},
   "outputs": [
    {
     "data": {
      "text/plain": [
       "<matplotlib.colorbar.Colorbar at 0x74cbc8515160>"
      ]
     },
     "execution_count": 15,
     "metadata": {},
     "output_type": "execute_result"
    },
    {
     "data": {
      "image/png": "[encoded data removed]",
      "text/plain": [
       "<matplotlib.figure.Figure at 0x74cbc85945f8>"
      ]
     },
     "metadata": {},
     "output_type": "display_data"
    }
   ],
   "source": [
    "# plot notes: assumes pixel size similiar to decam\n",
    "plt.imshow(np.log(k.T), origin='lower')\n",
    "plt.colorbar()"
   ]
  },
  {
   "cell_type": "code",
   "execution_count": 120,
   "metadata": {},
   "outputs": [
    {
     "data": {
      "text/plain": [
       "25.0"
      ]
     },
     "execution_count": 120,
     "metadata": {},
     "output_type": "execute_result"
    }
   ],
   "source": [
    "get_runtime(5,5,4,2)"
   ]
  },
  {
   "cell_type": "code",
   "execution_count": null,
   "metadata": {},
   "outputs": [],
   "source": [
    "plt.xscale('log')"
   ]
  },
  {
   "cell_type": "code",
   "execution_count": 44,
   "metadata": {},
   "outputs": [
    {
     "data": {
      "image/png": "[encoded data removed]",
      "text/plain": [
       "<matplotlib.figure.Figure at 0x74cbc19e7208>"
      ]
     },
     "metadata": {},
     "output_type": "display_data"
    }
   ],
   "source": [
    "\n",
    "fig = plt.figure(4, (8., 8.))\n",
    "grid = ImageGrid(fig, 111,  # similar to subplot(111)\n",
    "                 nrows_ncols=(grid_size, grid_size),  \n",
    "                 axes_pad=0.1,  # pad between axes in inch.\n",
    "                 )\n",
    "\n",
    "for i in range(grid_size*grid_size):\n",
    "    grid[i].imshow(np.log(k[i//grid_size][i%grid_size]).T, origin='lower')  # The AxesGrid object work as a list of axes.\n",
    "    \n",
    "#plt.colorbar()\n",
    "plt.show()"
   ]
  },
  {
   "cell_type": "code",
   "execution_count": null,
   "metadata": {},
   "outputs": [],
   "source": []
  }
 ],
 "metadata": {
  "kernelspec": {
   "display_name": "Python 3",
   "language": "python",
   "name": "python3"
  },
  "language_info": {
   "codemirror_mode": {
    "name": "ipython",
    "version": 3
   },
   "file_extension": ".py",
   "mimetype": "text/x-python",
   "name": "python",
   "nbconvert_exporter": "python",
   "pygments_lexer": "ipython3",
   "version": "3.5.2"
  }
 },
 "nbformat": 4,
 "nbformat_minor": 2
}
